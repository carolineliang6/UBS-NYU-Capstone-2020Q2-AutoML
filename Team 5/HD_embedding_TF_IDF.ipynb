{
  "nbformat": 4,
  "nbformat_minor": 0,
  "metadata": {
    "colab": {
      "name": "HD_embedding.ipynb",
      "provenance": [],
      "collapsed_sections": []
    },
    "kernelspec": {
      "name": "python3",
      "display_name": "Python 3"
    }
  },
  "cells": [
    {
      "cell_type": "code",
      "metadata": {
        "id": "4YIr30QMRmOW",
        "colab_type": "code",
        "colab": {}
      },
      "source": [
        "import numpy as np\n",
        "import pandas as pd\n",
        "import nltk\n",
        "import re\n",
        "import string\n",
        "import xgboost as xgb\n",
        "from sklearn.ensemble import RandomForestRegressor, BaggingRegressor\n",
        "from sklearn.model_selection import cross_val_score,train_test_split\n",
        "import math\n",
        "import spacy\n",
        "import en_core_web_sm\n",
        "import itertools\n",
        "from sklearn.metrics import mean_squared_error"
      ],
      "execution_count": 27,
      "outputs": []
    },
    {
      "cell_type": "code",
      "metadata": {
        "id": "6D7r6kaHRw_s",
        "colab_type": "code",
        "colab": {
          "base_uri": "https://localhost:8080/",
          "height": 419
        },
        "outputId": "9f19aaf6-fcf7-4ab0-a2d4-d8a9f27eeed4"
      },
      "source": [
        "df_train = pd.read_csv('train.csv', encoding=\"ISO-8859-1\")\n",
        "df_test = pd.read_csv('test.csv', encoding=\"ISO-8859-1\")\n",
        "df_pro_desc = pd.read_csv('product_descriptions.csv',encoding=\"ISO-8859-1\")\n",
        "df_train_desc = pd.merge(df_train, df_pro_desc, how='left', on='product_uid')\n",
        "df_train_all = df_train_desc\n",
        "df_train_all"
      ],
      "execution_count": 41,
      "outputs": [
        {
          "output_type": "execute_result",
          "data": {
            "text/html": [
              "<div>\n",
              "<style scoped>\n",
              "    .dataframe tbody tr th:only-of-type {\n",
              "        vertical-align: middle;\n",
              "    }\n",
              "\n",
              "    .dataframe tbody tr th {\n",
              "        vertical-align: top;\n",
              "    }\n",
              "\n",
              "    .dataframe thead th {\n",
              "        text-align: right;\n",
              "    }\n",
              "</style>\n",
              "<table border=\"1\" class=\"dataframe\">\n",
              "  <thead>\n",
              "    <tr style=\"text-align: right;\">\n",
              "      <th></th>\n",
              "      <th>id</th>\n",
              "      <th>product_uid</th>\n",
              "      <th>product_title</th>\n",
              "      <th>search_term</th>\n",
              "      <th>relevance</th>\n",
              "      <th>product_description</th>\n",
              "    </tr>\n",
              "  </thead>\n",
              "  <tbody>\n",
              "    <tr>\n",
              "      <th>0</th>\n",
              "      <td>2</td>\n",
              "      <td>100001</td>\n",
              "      <td>Simpson Strong-Tie 12-Gauge Angle</td>\n",
              "      <td>angle bracket</td>\n",
              "      <td>3.00</td>\n",
              "      <td>Not only do angles make joints stronger, they ...</td>\n",
              "    </tr>\n",
              "    <tr>\n",
              "      <th>1</th>\n",
              "      <td>3</td>\n",
              "      <td>100001</td>\n",
              "      <td>Simpson Strong-Tie 12-Gauge Angle</td>\n",
              "      <td>l bracket</td>\n",
              "      <td>2.50</td>\n",
              "      <td>Not only do angles make joints stronger, they ...</td>\n",
              "    </tr>\n",
              "    <tr>\n",
              "      <th>2</th>\n",
              "      <td>9</td>\n",
              "      <td>100002</td>\n",
              "      <td>BEHR Premium Textured DeckOver 1-gal. #SC-141 ...</td>\n",
              "      <td>deck over</td>\n",
              "      <td>3.00</td>\n",
              "      <td>BEHR Premium Textured DECKOVER is an innovativ...</td>\n",
              "    </tr>\n",
              "    <tr>\n",
              "      <th>3</th>\n",
              "      <td>16</td>\n",
              "      <td>100005</td>\n",
              "      <td>Delta Vero 1-Handle Shower Only Faucet Trim Ki...</td>\n",
              "      <td>rain shower head</td>\n",
              "      <td>2.33</td>\n",
              "      <td>Update your bathroom with the Delta Vero Singl...</td>\n",
              "    </tr>\n",
              "    <tr>\n",
              "      <th>4</th>\n",
              "      <td>17</td>\n",
              "      <td>100005</td>\n",
              "      <td>Delta Vero 1-Handle Shower Only Faucet Trim Ki...</td>\n",
              "      <td>shower only faucet</td>\n",
              "      <td>2.67</td>\n",
              "      <td>Update your bathroom with the Delta Vero Singl...</td>\n",
              "    </tr>\n",
              "    <tr>\n",
              "      <th>...</th>\n",
              "      <td>...</td>\n",
              "      <td>...</td>\n",
              "      <td>...</td>\n",
              "      <td>...</td>\n",
              "      <td>...</td>\n",
              "      <td>...</td>\n",
              "    </tr>\n",
              "    <tr>\n",
              "      <th>74062</th>\n",
              "      <td>221457</td>\n",
              "      <td>206638</td>\n",
              "      <td>Atlantic Windowpane 576 CD or 192 DVD Blu-Ray ...</td>\n",
              "      <td>tv riser glass</td>\n",
              "      <td>1.00</td>\n",
              "      <td>Atlantic, Inc. 94835722 Uniquely designed for ...</td>\n",
              "    </tr>\n",
              "    <tr>\n",
              "      <th>74063</th>\n",
              "      <td>221458</td>\n",
              "      <td>206639</td>\n",
              "      <td>Philips 40-Watt Halogen R20 Flood Light Bulb (...</td>\n",
              "      <td>r20 halogen light</td>\n",
              "      <td>3.00</td>\n",
              "      <td>Philips Energy Advantage lamps use less energy...</td>\n",
              "    </tr>\n",
              "    <tr>\n",
              "      <th>74064</th>\n",
              "      <td>221463</td>\n",
              "      <td>206641</td>\n",
              "      <td>Schlage Camelot In-Active Aged Bronze Handlese...</td>\n",
              "      <td>schlage lock siena half dummy knob with</td>\n",
              "      <td>2.33</td>\n",
              "      <td>The Schlage Camelot In-Active Aged Bronze Hand...</td>\n",
              "    </tr>\n",
              "    <tr>\n",
              "      <th>74065</th>\n",
              "      <td>221471</td>\n",
              "      <td>206648</td>\n",
              "      <td>Plastec 11 in. x 24 in. Rose Garden Wall Decor...</td>\n",
              "      <td>zen garden  decor</td>\n",
              "      <td>3.00</td>\n",
              "      <td>The Rose Garden is inspired by the popular ear...</td>\n",
              "    </tr>\n",
              "    <tr>\n",
              "      <th>74066</th>\n",
              "      <td>221473</td>\n",
              "      <td>206650</td>\n",
              "      <td>LICHTENBERG Pool Blue No. 918 Millennial Ryan ...</td>\n",
              "      <td>fine sheer curtain 63 inches</td>\n",
              "      <td>2.33</td>\n",
              "      <td>No. 918 Millennial Ryan heathered texture semi...</td>\n",
              "    </tr>\n",
              "  </tbody>\n",
              "</table>\n",
              "<p>74067 rows × 6 columns</p>\n",
              "</div>"
            ],
            "text/plain": [
              "           id  ...                                product_description\n",
              "0           2  ...  Not only do angles make joints stronger, they ...\n",
              "1           3  ...  Not only do angles make joints stronger, they ...\n",
              "2           9  ...  BEHR Premium Textured DECKOVER is an innovativ...\n",
              "3          16  ...  Update your bathroom with the Delta Vero Singl...\n",
              "4          17  ...  Update your bathroom with the Delta Vero Singl...\n",
              "...       ...  ...                                                ...\n",
              "74062  221457  ...  Atlantic, Inc. 94835722 Uniquely designed for ...\n",
              "74063  221458  ...  Philips Energy Advantage lamps use less energy...\n",
              "74064  221463  ...  The Schlage Camelot In-Active Aged Bronze Hand...\n",
              "74065  221471  ...  The Rose Garden is inspired by the popular ear...\n",
              "74066  221473  ...  No. 918 Millennial Ryan heathered texture semi...\n",
              "\n",
              "[74067 rows x 6 columns]"
            ]
          },
          "metadata": {
            "tags": []
          },
          "execution_count": 41
        }
      ]
    },
    {
      "cell_type": "code",
      "metadata": {
        "id": "hToo8MAFSq_h",
        "colab_type": "code",
        "colab": {
          "base_uri": "https://localhost:8080/",
          "height": 68
        },
        "outputId": "1e689bb6-3fe0-429f-f3b7-f20f18525b1e"
      },
      "source": [
        "nltk.download('stopwords')"
      ],
      "execution_count": 9,
      "outputs": [
        {
          "output_type": "stream",
          "text": [
            "[nltk_data] Downloading package stopwords to /root/nltk_data...\n",
            "[nltk_data]   Unzipping corpora/stopwords.zip.\n"
          ],
          "name": "stdout"
        },
        {
          "output_type": "execute_result",
          "data": {
            "text/plain": [
              "True"
            ]
          },
          "metadata": {
            "tags": []
          },
          "execution_count": 9
        }
      ]
    },
    {
      "cell_type": "code",
      "metadata": {
        "id": "b3O3FxYtRriK",
        "colab_type": "code",
        "colab": {
          "base_uri": "https://localhost:8080/",
          "height": 419
        },
        "outputId": "ebb60b3d-737a-45e9-ba96-8d2edce6cabd"
      },
      "source": [
        "def clean_text(text):\n",
        "    stopwords = nltk.corpus.stopwords.words('english')\n",
        "    text = \"\".join([word for word in text if word not in string.punctuation])\n",
        "    tokens = re.split('\\W+', text)\n",
        "    text = [word for word in tokens if word not in stopwords]\n",
        "    return text\n",
        "\n",
        "df_train_all['product_title'] = df_train_small['product_title'].apply(lambda x: clean_text(x.lower()))\n",
        "df_train_all['search_term'] = df_train_small['search_term'].apply(lambda x: clean_text(x.lower()))\n",
        "df_train_all['product_description'] = df_train_small['product_description'].apply(lambda x: clean_text(x.lower()))\n",
        "df_train_all"
      ],
      "execution_count": 10,
      "outputs": [
        {
          "output_type": "execute_result",
          "data": {
            "text/html": [
              "<div>\n",
              "<style scoped>\n",
              "    .dataframe tbody tr th:only-of-type {\n",
              "        vertical-align: middle;\n",
              "    }\n",
              "\n",
              "    .dataframe tbody tr th {\n",
              "        vertical-align: top;\n",
              "    }\n",
              "\n",
              "    .dataframe thead th {\n",
              "        text-align: right;\n",
              "    }\n",
              "</style>\n",
              "<table border=\"1\" class=\"dataframe\">\n",
              "  <thead>\n",
              "    <tr style=\"text-align: right;\">\n",
              "      <th></th>\n",
              "      <th>id</th>\n",
              "      <th>product_uid</th>\n",
              "      <th>product_title</th>\n",
              "      <th>search_term</th>\n",
              "      <th>relevance</th>\n",
              "      <th>product_description</th>\n",
              "    </tr>\n",
              "  </thead>\n",
              "  <tbody>\n",
              "    <tr>\n",
              "      <th>0</th>\n",
              "      <td>2</td>\n",
              "      <td>100001</td>\n",
              "      <td>[simpson, strongtie, 12gauge, angle]</td>\n",
              "      <td>[angle, bracket]</td>\n",
              "      <td>3.00</td>\n",
              "      <td>[angles, make, joints, stronger, also, provide...</td>\n",
              "    </tr>\n",
              "    <tr>\n",
              "      <th>1</th>\n",
              "      <td>3</td>\n",
              "      <td>100001</td>\n",
              "      <td>[simpson, strongtie, 12gauge, angle]</td>\n",
              "      <td>[l, bracket]</td>\n",
              "      <td>2.50</td>\n",
              "      <td>[angles, make, joints, stronger, also, provide...</td>\n",
              "    </tr>\n",
              "    <tr>\n",
              "      <th>2</th>\n",
              "      <td>9</td>\n",
              "      <td>100002</td>\n",
              "      <td>[behr, premium, textured, deckover, 1gal, sc14...</td>\n",
              "      <td>[deck]</td>\n",
              "      <td>3.00</td>\n",
              "      <td>[behr, premium, textured, deckover, innovative...</td>\n",
              "    </tr>\n",
              "    <tr>\n",
              "      <th>3</th>\n",
              "      <td>16</td>\n",
              "      <td>100005</td>\n",
              "      <td>[delta, vero, 1handle, shower, faucet, trim, k...</td>\n",
              "      <td>[rain, shower, head]</td>\n",
              "      <td>2.33</td>\n",
              "      <td>[update, bathroom, delta, vero, singlehandle, ...</td>\n",
              "    </tr>\n",
              "    <tr>\n",
              "      <th>4</th>\n",
              "      <td>17</td>\n",
              "      <td>100005</td>\n",
              "      <td>[delta, vero, 1handle, shower, faucet, trim, k...</td>\n",
              "      <td>[shower, faucet]</td>\n",
              "      <td>2.67</td>\n",
              "      <td>[update, bathroom, delta, vero, singlehandle, ...</td>\n",
              "    </tr>\n",
              "    <tr>\n",
              "      <th>...</th>\n",
              "      <td>...</td>\n",
              "      <td>...</td>\n",
              "      <td>...</td>\n",
              "      <td>...</td>\n",
              "      <td>...</td>\n",
              "      <td>...</td>\n",
              "    </tr>\n",
              "    <tr>\n",
              "      <th>74062</th>\n",
              "      <td>221457</td>\n",
              "      <td>206638</td>\n",
              "      <td>[atlantic, windowpane, 576, cd, 192, dvd, blur...</td>\n",
              "      <td>[tv, riser, glass]</td>\n",
              "      <td>1.00</td>\n",
              "      <td>[atlantic, inc, 94835722, uniquely, designed, ...</td>\n",
              "    </tr>\n",
              "    <tr>\n",
              "      <th>74063</th>\n",
              "      <td>221458</td>\n",
              "      <td>206639</td>\n",
              "      <td>[philips, 40watt, halogen, r20, flood, light, ...</td>\n",
              "      <td>[r20, halogen, light]</td>\n",
              "      <td>3.00</td>\n",
              "      <td>[philips, energy, advantage, lamps, use, less,...</td>\n",
              "    </tr>\n",
              "    <tr>\n",
              "      <th>74064</th>\n",
              "      <td>221463</td>\n",
              "      <td>206641</td>\n",
              "      <td>[schlage, camelot, inactive, aged, bronze, han...</td>\n",
              "      <td>[schlage, lock, siena, half, dummy, knob]</td>\n",
              "      <td>2.33</td>\n",
              "      <td>[schlage, camelot, inactive, aged, bronze, han...</td>\n",
              "    </tr>\n",
              "    <tr>\n",
              "      <th>74065</th>\n",
              "      <td>221471</td>\n",
              "      <td>206648</td>\n",
              "      <td>[plastec, 11, x, 24, rose, garden, wall, decor...</td>\n",
              "      <td>[zen, garden, decor]</td>\n",
              "      <td>3.00</td>\n",
              "      <td>[rose, garden, inspired, popular, early, 20th,...</td>\n",
              "    </tr>\n",
              "    <tr>\n",
              "      <th>74066</th>\n",
              "      <td>221473</td>\n",
              "      <td>206650</td>\n",
              "      <td>[lichtenberg, pool, blue, 918, millennial, rya...</td>\n",
              "      <td>[fine, sheer, curtain, 63, inches]</td>\n",
              "      <td>2.33</td>\n",
              "      <td>[918, millennial, ryan, heathered, texture, se...</td>\n",
              "    </tr>\n",
              "  </tbody>\n",
              "</table>\n",
              "<p>74067 rows × 6 columns</p>\n",
              "</div>"
            ],
            "text/plain": [
              "           id  ...                                product_description\n",
              "0           2  ...  [angles, make, joints, stronger, also, provide...\n",
              "1           3  ...  [angles, make, joints, stronger, also, provide...\n",
              "2           9  ...  [behr, premium, textured, deckover, innovative...\n",
              "3          16  ...  [update, bathroom, delta, vero, singlehandle, ...\n",
              "4          17  ...  [update, bathroom, delta, vero, singlehandle, ...\n",
              "...       ...  ...                                                ...\n",
              "74062  221457  ...  [atlantic, inc, 94835722, uniquely, designed, ...\n",
              "74063  221458  ...  [philips, energy, advantage, lamps, use, less,...\n",
              "74064  221463  ...  [schlage, camelot, inactive, aged, bronze, han...\n",
              "74065  221471  ...  [rose, garden, inspired, popular, early, 20th,...\n",
              "74066  221473  ...  [918, millennial, ryan, heathered, texture, se...\n",
              "\n",
              "[74067 rows x 6 columns]"
            ]
          },
          "metadata": {
            "tags": []
          },
          "execution_count": 10
        }
      ]
    },
    {
      "cell_type": "code",
      "metadata": {
        "id": "os6ia9PFS0rY",
        "colab_type": "code",
        "colab": {
          "base_uri": "https://localhost:8080/",
          "height": 204
        },
        "outputId": "60aab8ce-2b2a-41cd-ee80-411cef966089"
      },
      "source": [
        "#stemming\n",
        "ps = nltk.PorterStemmer() # define stemmer\n",
        "df_all_stem = pd.DataFrame()\n",
        "\n",
        "def stemming(tokenized_text):\n",
        "    text = [ps.stem(word) for word in tokenized_text]  #return stemmed word\n",
        "    return text\n",
        "df_all_stem['id'] = df_train_small['id']\n",
        "df_all_stem['product_uid'] = df_train_small['product_uid']\n",
        "df_all_stem['product_title'] = df_train_small['product_title'].apply(lambda x: stemming(x))\n",
        "df_all_stem['search_term'] = df_train_small['search_term'].apply(lambda x: stemming(x))\n",
        "df_all_stem['product_description'] = df_train_small['product_description'].apply(lambda x: stemming(x))\n",
        "df_all_stem['relevance'] = df_train_small['relevance']\n",
        "df_all_stem.head()"
      ],
      "execution_count": 11,
      "outputs": [
        {
          "output_type": "execute_result",
          "data": {
            "text/html": [
              "<div>\n",
              "<style scoped>\n",
              "    .dataframe tbody tr th:only-of-type {\n",
              "        vertical-align: middle;\n",
              "    }\n",
              "\n",
              "    .dataframe tbody tr th {\n",
              "        vertical-align: top;\n",
              "    }\n",
              "\n",
              "    .dataframe thead th {\n",
              "        text-align: right;\n",
              "    }\n",
              "</style>\n",
              "<table border=\"1\" class=\"dataframe\">\n",
              "  <thead>\n",
              "    <tr style=\"text-align: right;\">\n",
              "      <th></th>\n",
              "      <th>id</th>\n",
              "      <th>product_uid</th>\n",
              "      <th>product_title</th>\n",
              "      <th>search_term</th>\n",
              "      <th>product_description</th>\n",
              "      <th>relevance</th>\n",
              "    </tr>\n",
              "  </thead>\n",
              "  <tbody>\n",
              "    <tr>\n",
              "      <th>0</th>\n",
              "      <td>2</td>\n",
              "      <td>100001</td>\n",
              "      <td>[simpson, strongti, 12gaug, angl]</td>\n",
              "      <td>[angl, bracket]</td>\n",
              "      <td>[angl, make, joint, stronger, also, provid, co...</td>\n",
              "      <td>3.00</td>\n",
              "    </tr>\n",
              "    <tr>\n",
              "      <th>1</th>\n",
              "      <td>3</td>\n",
              "      <td>100001</td>\n",
              "      <td>[simpson, strongti, 12gaug, angl]</td>\n",
              "      <td>[l, bracket]</td>\n",
              "      <td>[angl, make, joint, stronger, also, provid, co...</td>\n",
              "      <td>2.50</td>\n",
              "    </tr>\n",
              "    <tr>\n",
              "      <th>2</th>\n",
              "      <td>9</td>\n",
              "      <td>100002</td>\n",
              "      <td>[behr, premium, textur, deckov, 1gal, sc141, t...</td>\n",
              "      <td>[deck]</td>\n",
              "      <td>[behr, premium, textur, deckov, innov, solid, ...</td>\n",
              "      <td>3.00</td>\n",
              "    </tr>\n",
              "    <tr>\n",
              "      <th>3</th>\n",
              "      <td>16</td>\n",
              "      <td>100005</td>\n",
              "      <td>[delta, vero, 1handl, shower, faucet, trim, ki...</td>\n",
              "      <td>[rain, shower, head]</td>\n",
              "      <td>[updat, bathroom, delta, vero, singlehandl, sh...</td>\n",
              "      <td>2.33</td>\n",
              "    </tr>\n",
              "    <tr>\n",
              "      <th>4</th>\n",
              "      <td>17</td>\n",
              "      <td>100005</td>\n",
              "      <td>[delta, vero, 1handl, shower, faucet, trim, ki...</td>\n",
              "      <td>[shower, faucet]</td>\n",
              "      <td>[updat, bathroom, delta, vero, singlehandl, sh...</td>\n",
              "      <td>2.67</td>\n",
              "    </tr>\n",
              "  </tbody>\n",
              "</table>\n",
              "</div>"
            ],
            "text/plain": [
              "   id  ...  relevance\n",
              "0   2  ...       3.00\n",
              "1   3  ...       2.50\n",
              "2   9  ...       3.00\n",
              "3  16  ...       2.33\n",
              "4  17  ...       2.67\n",
              "\n",
              "[5 rows x 6 columns]"
            ]
          },
          "metadata": {
            "tags": []
          },
          "execution_count": 11
        }
      ]
    },
    {
      "cell_type": "code",
      "metadata": {
        "id": "ovbkXFmxI1b_",
        "colab_type": "code",
        "colab": {
          "base_uri": "https://localhost:8080/",
          "height": 289
        },
        "outputId": "4923b594-05d1-4806-a0bc-60819c7f51dd"
      },
      "source": [
        "df_all_features = pd.DataFrame()\n",
        "\n",
        "def str_common_word(list1, list2):\n",
        "    list3 = set(list1)&set(list2) \n",
        "    list4 = sorted(list3, key = lambda k : list1.index(k))\n",
        "    return len(list4)\n",
        "\n",
        "\n",
        "df_all_features['search_term'] = df_all_stem['search_term']\n",
        "df_all_features['product_title'] = df_all_stem['product_title']\n",
        "df_all_features['product_description'] = df_all_stem['product_description']\n",
        "\n",
        "df_all_features['product_info'] = df_all_features.values.tolist()\n",
        "df_all_features['id'] = df_train_small['id']\n",
        "df_all_features['product_uid'] = df_train_small['product_uid']\n",
        "df_all_features['len_of_query'] = df_all_features['search_term'].map(lambda x:len(x)).astype(np.int64)\n",
        "df_all_features['word_in_title'] = df_all_features['product_info'].map(lambda x:str_common_word(x[0],x[1]))\n",
        "df_all_features['word_in_description'] = df_all_features['product_info'].map(lambda x:str_common_word(x[0],x[2]))\n",
        "#df_all_features = df_all_features.drop(['search_term','product_title','product_description','product_info'],axis=1)\n",
        "\n",
        "df_all_features.head()"
      ],
      "execution_count": 60,
      "outputs": [
        {
          "output_type": "execute_result",
          "data": {
            "text/html": [
              "<div>\n",
              "<style scoped>\n",
              "    .dataframe tbody tr th:only-of-type {\n",
              "        vertical-align: middle;\n",
              "    }\n",
              "\n",
              "    .dataframe tbody tr th {\n",
              "        vertical-align: top;\n",
              "    }\n",
              "\n",
              "    .dataframe thead th {\n",
              "        text-align: right;\n",
              "    }\n",
              "</style>\n",
              "<table border=\"1\" class=\"dataframe\">\n",
              "  <thead>\n",
              "    <tr style=\"text-align: right;\">\n",
              "      <th></th>\n",
              "      <th>search_term</th>\n",
              "      <th>product_title</th>\n",
              "      <th>product_description</th>\n",
              "      <th>product_info</th>\n",
              "      <th>id</th>\n",
              "      <th>product_uid</th>\n",
              "      <th>len_of_query</th>\n",
              "      <th>word_in_title</th>\n",
              "      <th>word_in_description</th>\n",
              "    </tr>\n",
              "  </thead>\n",
              "  <tbody>\n",
              "    <tr>\n",
              "      <th>0</th>\n",
              "      <td>[angl, bracket]</td>\n",
              "      <td>[simpson, strongti, 12gaug, angl]</td>\n",
              "      <td>[angl, make, joint, stronger, also, provid, co...</td>\n",
              "      <td>[[angl, bracket], [simpson, strongti, 12gaug, ...</td>\n",
              "      <td>2</td>\n",
              "      <td>100001</td>\n",
              "      <td>2</td>\n",
              "      <td>1</td>\n",
              "      <td>1</td>\n",
              "    </tr>\n",
              "    <tr>\n",
              "      <th>1</th>\n",
              "      <td>[l, bracket]</td>\n",
              "      <td>[simpson, strongti, 12gaug, angl]</td>\n",
              "      <td>[angl, make, joint, stronger, also, provid, co...</td>\n",
              "      <td>[[l, bracket], [simpson, strongti, 12gaug, ang...</td>\n",
              "      <td>3</td>\n",
              "      <td>100001</td>\n",
              "      <td>2</td>\n",
              "      <td>0</td>\n",
              "      <td>0</td>\n",
              "    </tr>\n",
              "    <tr>\n",
              "      <th>2</th>\n",
              "      <td>[deck]</td>\n",
              "      <td>[behr, premium, textur, deckov, 1gal, sc141, t...</td>\n",
              "      <td>[behr, premium, textur, deckov, innov, solid, ...</td>\n",
              "      <td>[[deck], [behr, premium, textur, deckov, 1gal,...</td>\n",
              "      <td>9</td>\n",
              "      <td>100002</td>\n",
              "      <td>1</td>\n",
              "      <td>0</td>\n",
              "      <td>1</td>\n",
              "    </tr>\n",
              "    <tr>\n",
              "      <th>3</th>\n",
              "      <td>[rain, shower, head]</td>\n",
              "      <td>[delta, vero, 1handl, shower, faucet, trim, ki...</td>\n",
              "      <td>[updat, bathroom, delta, vero, singlehandl, sh...</td>\n",
              "      <td>[[rain, shower, head], [delta, vero, 1handl, s...</td>\n",
              "      <td>16</td>\n",
              "      <td>100005</td>\n",
              "      <td>3</td>\n",
              "      <td>1</td>\n",
              "      <td>1</td>\n",
              "    </tr>\n",
              "    <tr>\n",
              "      <th>4</th>\n",
              "      <td>[shower, faucet]</td>\n",
              "      <td>[delta, vero, 1handl, shower, faucet, trim, ki...</td>\n",
              "      <td>[updat, bathroom, delta, vero, singlehandl, sh...</td>\n",
              "      <td>[[shower, faucet], [delta, vero, 1handl, showe...</td>\n",
              "      <td>17</td>\n",
              "      <td>100005</td>\n",
              "      <td>2</td>\n",
              "      <td>2</td>\n",
              "      <td>2</td>\n",
              "    </tr>\n",
              "  </tbody>\n",
              "</table>\n",
              "</div>"
            ],
            "text/plain": [
              "            search_term  ... word_in_description\n",
              "0       [angl, bracket]  ...                   1\n",
              "1          [l, bracket]  ...                   0\n",
              "2                [deck]  ...                   1\n",
              "3  [rain, shower, head]  ...                   1\n",
              "4      [shower, faucet]  ...                   2\n",
              "\n",
              "[5 rows x 9 columns]"
            ]
          },
          "metadata": {
            "tags": []
          },
          "execution_count": 60
        }
      ]
    },
    {
      "cell_type": "code",
      "metadata": {
        "id": "kd8ea5hcS6CF",
        "colab_type": "code",
        "colab": {
          "base_uri": "https://localhost:8080/",
          "height": 204
        },
        "outputId": "9a8f9cd7-09e2-4635-d5f3-b63fadf66544"
      },
      "source": [
        "#import the Word2Vec embedding features\n",
        "emb_features = pd.read_csv(\"HD_embedding.csv\")\n",
        "emb_features.head()"
      ],
      "execution_count": 13,
      "outputs": [
        {
          "output_type": "execute_result",
          "data": {
            "text/html": [
              "<div>\n",
              "<style scoped>\n",
              "    .dataframe tbody tr th:only-of-type {\n",
              "        vertical-align: middle;\n",
              "    }\n",
              "\n",
              "    .dataframe tbody tr th {\n",
              "        vertical-align: top;\n",
              "    }\n",
              "\n",
              "    .dataframe thead th {\n",
              "        text-align: right;\n",
              "    }\n",
              "</style>\n",
              "<table border=\"1\" class=\"dataframe\">\n",
              "  <thead>\n",
              "    <tr style=\"text-align: right;\">\n",
              "      <th></th>\n",
              "      <th>Unnamed: 0</th>\n",
              "      <th>title_sim</th>\n",
              "      <th>description_sim</th>\n",
              "    </tr>\n",
              "  </thead>\n",
              "  <tbody>\n",
              "    <tr>\n",
              "      <th>0</th>\n",
              "      <td>0</td>\n",
              "      <td>0.099485</td>\n",
              "      <td>0.011724</td>\n",
              "    </tr>\n",
              "    <tr>\n",
              "      <th>1</th>\n",
              "      <td>1</td>\n",
              "      <td>0.056404</td>\n",
              "      <td>0.009350</td>\n",
              "    </tr>\n",
              "    <tr>\n",
              "      <th>2</th>\n",
              "      <td>2</td>\n",
              "      <td>0.043307</td>\n",
              "      <td>0.011489</td>\n",
              "    </tr>\n",
              "    <tr>\n",
              "      <th>3</th>\n",
              "      <td>3</td>\n",
              "      <td>0.036266</td>\n",
              "      <td>0.009092</td>\n",
              "    </tr>\n",
              "    <tr>\n",
              "      <th>4</th>\n",
              "      <td>4</td>\n",
              "      <td>0.077293</td>\n",
              "      <td>0.016911</td>\n",
              "    </tr>\n",
              "  </tbody>\n",
              "</table>\n",
              "</div>"
            ],
            "text/plain": [
              "   Unnamed: 0  title_sim  description_sim\n",
              "0           0   0.099485         0.011724\n",
              "1           1   0.056404         0.009350\n",
              "2           2   0.043307         0.011489\n",
              "3           3   0.036266         0.009092\n",
              "4           4   0.077293         0.016911"
            ]
          },
          "metadata": {
            "tags": []
          },
          "execution_count": 13
        }
      ]
    },
    {
      "cell_type": "code",
      "metadata": {
        "id": "UAISQyQKJAIX",
        "colab_type": "code",
        "colab": {
          "base_uri": "https://localhost:8080/",
          "height": 419
        },
        "outputId": "17036607-5279-45c5-a347-f722183c31bb"
      },
      "source": [
        "#add the embedding features\n",
        "#df_all_features_emb = pd.concat([df_all_features, emb_features], axis=1)\n",
        "df_all_features_emb = df_all_features\n",
        "df_all_features_emb['relevance'] = df_train_all['relevance']\n",
        "df_all_features_emb = df_all_features_emb.drop(['search_term','product_title','product_description','product_info','product_uid','id','relevance'],axis=1)\n",
        "df_all_features_emb"
      ],
      "execution_count": 75,
      "outputs": [
        {
          "output_type": "execute_result",
          "data": {
            "text/html": [
              "<div>\n",
              "<style scoped>\n",
              "    .dataframe tbody tr th:only-of-type {\n",
              "        vertical-align: middle;\n",
              "    }\n",
              "\n",
              "    .dataframe tbody tr th {\n",
              "        vertical-align: top;\n",
              "    }\n",
              "\n",
              "    .dataframe thead th {\n",
              "        text-align: right;\n",
              "    }\n",
              "</style>\n",
              "<table border=\"1\" class=\"dataframe\">\n",
              "  <thead>\n",
              "    <tr style=\"text-align: right;\">\n",
              "      <th></th>\n",
              "      <th>len_of_query</th>\n",
              "      <th>word_in_title</th>\n",
              "      <th>word_in_description</th>\n",
              "    </tr>\n",
              "  </thead>\n",
              "  <tbody>\n",
              "    <tr>\n",
              "      <th>0</th>\n",
              "      <td>2</td>\n",
              "      <td>1</td>\n",
              "      <td>1</td>\n",
              "    </tr>\n",
              "    <tr>\n",
              "      <th>1</th>\n",
              "      <td>2</td>\n",
              "      <td>0</td>\n",
              "      <td>0</td>\n",
              "    </tr>\n",
              "    <tr>\n",
              "      <th>2</th>\n",
              "      <td>1</td>\n",
              "      <td>0</td>\n",
              "      <td>1</td>\n",
              "    </tr>\n",
              "    <tr>\n",
              "      <th>3</th>\n",
              "      <td>3</td>\n",
              "      <td>1</td>\n",
              "      <td>1</td>\n",
              "    </tr>\n",
              "    <tr>\n",
              "      <th>4</th>\n",
              "      <td>2</td>\n",
              "      <td>2</td>\n",
              "      <td>2</td>\n",
              "    </tr>\n",
              "    <tr>\n",
              "      <th>...</th>\n",
              "      <td>...</td>\n",
              "      <td>...</td>\n",
              "      <td>...</td>\n",
              "    </tr>\n",
              "    <tr>\n",
              "      <th>74062</th>\n",
              "      <td>3</td>\n",
              "      <td>1</td>\n",
              "      <td>1</td>\n",
              "    </tr>\n",
              "    <tr>\n",
              "      <th>74063</th>\n",
              "      <td>3</td>\n",
              "      <td>3</td>\n",
              "      <td>2</td>\n",
              "    </tr>\n",
              "    <tr>\n",
              "      <th>74064</th>\n",
              "      <td>6</td>\n",
              "      <td>1</td>\n",
              "      <td>1</td>\n",
              "    </tr>\n",
              "    <tr>\n",
              "      <th>74065</th>\n",
              "      <td>3</td>\n",
              "      <td>2</td>\n",
              "      <td>2</td>\n",
              "    </tr>\n",
              "    <tr>\n",
              "      <th>74066</th>\n",
              "      <td>5</td>\n",
              "      <td>3</td>\n",
              "      <td>1</td>\n",
              "    </tr>\n",
              "  </tbody>\n",
              "</table>\n",
              "<p>74067 rows × 3 columns</p>\n",
              "</div>"
            ],
            "text/plain": [
              "       len_of_query  word_in_title  word_in_description\n",
              "0                 2              1                    1\n",
              "1                 2              0                    0\n",
              "2                 1              0                    1\n",
              "3                 3              1                    1\n",
              "4                 2              2                    2\n",
              "...             ...            ...                  ...\n",
              "74062             3              1                    1\n",
              "74063             3              3                    2\n",
              "74064             6              1                    1\n",
              "74065             3              2                    2\n",
              "74066             5              3                    1\n",
              "\n",
              "[74067 rows x 3 columns]"
            ]
          },
          "metadata": {
            "tags": []
          },
          "execution_count": 75
        }
      ]
    },
    {
      "cell_type": "markdown",
      "metadata": {
        "id": "2R9WbCWiTp-X",
        "colab_type": "text"
      },
      "source": [
        "##Try TF-IDF"
      ]
    },
    {
      "cell_type": "code",
      "metadata": {
        "id": "TM3o21dmTnT3",
        "colab_type": "code",
        "colab": {}
      },
      "source": [
        "from sklearn.feature_extraction.text import TfidfVectorizer\n",
        "from sklearn.decomposition import TruncatedSVD\n",
        "from sklearn.pipeline import FeatureUnion, Pipeline\n",
        "# TF-IDF and Truncated SVD initialization (to extract concept using Latent semantics analysis(LSA))\n",
        "tfidf = TfidfVectorizer(ngram_range=(1, 2), stop_words='english') #stop words\n",
        "svd = TruncatedSVD(n_components=100, random_state = 2019)  #n_components=100 to extract concepts using LSA\n",
        "pipe = Pipeline(steps=[('tfidf', tfidf), ('svd', svd)])"
      ],
      "execution_count": 24,
      "outputs": []
    },
    {
      "cell_type": "code",
      "metadata": {
        "id": "gGACPi4ChpSi",
        "colab_type": "code",
        "colab": {}
      },
      "source": [
        "# Perform fit and transform function of pipeline to convert text(in each feature) into vectors and reducing them \n",
        "#df_TFidf = pd.DataFrame()\n",
        "df_train_all[\"product_title\"]=pipe.fit_transform(df_train_all[\"product_title\"])\n",
        "df_train_all[\"search_term\"]=pipe.fit_transform(df_train_all[\"search_term\"])\n",
        "df_train_all[\"product_description\"]=pipe.fit_transform(df_train_all[\"product_description\"])\n"
      ],
      "execution_count": 42,
      "outputs": []
    },
    {
      "cell_type": "code",
      "metadata": {
        "id": "qmqXzHu_lQQV",
        "colab_type": "code",
        "colab": {
          "base_uri": "https://localhost:8080/",
          "height": 419
        },
        "outputId": "3ce13ef6-08cd-4380-865e-c4d8022140f1"
      },
      "source": [
        "df_train_all"
      ],
      "execution_count": 77,
      "outputs": [
        {
          "output_type": "execute_result",
          "data": {
            "text/html": [
              "<div>\n",
              "<style scoped>\n",
              "    .dataframe tbody tr th:only-of-type {\n",
              "        vertical-align: middle;\n",
              "    }\n",
              "\n",
              "    .dataframe tbody tr th {\n",
              "        vertical-align: top;\n",
              "    }\n",
              "\n",
              "    .dataframe thead th {\n",
              "        text-align: right;\n",
              "    }\n",
              "</style>\n",
              "<table border=\"1\" class=\"dataframe\">\n",
              "  <thead>\n",
              "    <tr style=\"text-align: right;\">\n",
              "      <th></th>\n",
              "      <th>product_title</th>\n",
              "      <th>search_term</th>\n",
              "      <th>relevance</th>\n",
              "      <th>product_description</th>\n",
              "      <th>title_sim</th>\n",
              "      <th>description_sim</th>\n",
              "    </tr>\n",
              "  </thead>\n",
              "  <tbody>\n",
              "    <tr>\n",
              "      <th>0</th>\n",
              "      <td>0.037831</td>\n",
              "      <td>0.003281</td>\n",
              "      <td>3.00</td>\n",
              "      <td>0.059758</td>\n",
              "      <td>0.099485</td>\n",
              "      <td>0.011724</td>\n",
              "    </tr>\n",
              "    <tr>\n",
              "      <th>1</th>\n",
              "      <td>0.037831</td>\n",
              "      <td>0.004888</td>\n",
              "      <td>2.50</td>\n",
              "      <td>0.059758</td>\n",
              "      <td>0.056404</td>\n",
              "      <td>0.009350</td>\n",
              "    </tr>\n",
              "    <tr>\n",
              "      <th>2</th>\n",
              "      <td>0.014359</td>\n",
              "      <td>0.005109</td>\n",
              "      <td>3.00</td>\n",
              "      <td>0.130521</td>\n",
              "      <td>0.043307</td>\n",
              "      <td>0.011489</td>\n",
              "    </tr>\n",
              "    <tr>\n",
              "      <th>3</th>\n",
              "      <td>0.064938</td>\n",
              "      <td>0.084180</td>\n",
              "      <td>2.33</td>\n",
              "      <td>0.082139</td>\n",
              "      <td>0.036266</td>\n",
              "      <td>0.009092</td>\n",
              "    </tr>\n",
              "    <tr>\n",
              "      <th>4</th>\n",
              "      <td>0.064938</td>\n",
              "      <td>0.148409</td>\n",
              "      <td>2.67</td>\n",
              "      <td>0.082139</td>\n",
              "      <td>0.077293</td>\n",
              "      <td>0.016911</td>\n",
              "    </tr>\n",
              "    <tr>\n",
              "      <th>...</th>\n",
              "      <td>...</td>\n",
              "      <td>...</td>\n",
              "      <td>...</td>\n",
              "      <td>...</td>\n",
              "      <td>...</td>\n",
              "      <td>...</td>\n",
              "    </tr>\n",
              "    <tr>\n",
              "      <th>74062</th>\n",
              "      <td>0.016119</td>\n",
              "      <td>0.025664</td>\n",
              "      <td>1.00</td>\n",
              "      <td>0.051810</td>\n",
              "      <td>0.040757</td>\n",
              "      <td>0.013468</td>\n",
              "    </tr>\n",
              "    <tr>\n",
              "      <th>74063</th>\n",
              "      <td>0.079398</td>\n",
              "      <td>0.037471</td>\n",
              "      <td>3.00</td>\n",
              "      <td>0.104744</td>\n",
              "      <td>0.090597</td>\n",
              "      <td>0.014838</td>\n",
              "    </tr>\n",
              "    <tr>\n",
              "      <th>74064</th>\n",
              "      <td>0.012881</td>\n",
              "      <td>0.011892</td>\n",
              "      <td>2.33</td>\n",
              "      <td>0.080744</td>\n",
              "      <td>0.034847</td>\n",
              "      <td>0.007674</td>\n",
              "    </tr>\n",
              "    <tr>\n",
              "      <th>74065</th>\n",
              "      <td>0.051558</td>\n",
              "      <td>0.004945</td>\n",
              "      <td>3.00</td>\n",
              "      <td>0.056199</td>\n",
              "      <td>0.060843</td>\n",
              "      <td>0.025619</td>\n",
              "    </tr>\n",
              "    <tr>\n",
              "      <th>74066</th>\n",
              "      <td>0.012765</td>\n",
              "      <td>0.002068</td>\n",
              "      <td>2.33</td>\n",
              "      <td>0.042071</td>\n",
              "      <td>0.022391</td>\n",
              "      <td>0.010826</td>\n",
              "    </tr>\n",
              "  </tbody>\n",
              "</table>\n",
              "<p>74067 rows × 6 columns</p>\n",
              "</div>"
            ],
            "text/plain": [
              "       product_title  search_term  ...  title_sim  description_sim\n",
              "0           0.037831     0.003281  ...   0.099485         0.011724\n",
              "1           0.037831     0.004888  ...   0.056404         0.009350\n",
              "2           0.014359     0.005109  ...   0.043307         0.011489\n",
              "3           0.064938     0.084180  ...   0.036266         0.009092\n",
              "4           0.064938     0.148409  ...   0.077293         0.016911\n",
              "...              ...          ...  ...        ...              ...\n",
              "74062       0.016119     0.025664  ...   0.040757         0.013468\n",
              "74063       0.079398     0.037471  ...   0.090597         0.014838\n",
              "74064       0.012881     0.011892  ...   0.034847         0.007674\n",
              "74065       0.051558     0.004945  ...   0.060843         0.025619\n",
              "74066       0.012765     0.002068  ...   0.022391         0.010826\n",
              "\n",
              "[74067 rows x 6 columns]"
            ]
          },
          "metadata": {
            "tags": []
          },
          "execution_count": 77
        }
      ]
    },
    {
      "cell_type": "code",
      "metadata": {
        "id": "McKj_M23L1Uk",
        "colab_type": "code",
        "colab": {
          "base_uri": "https://localhost:8080/",
          "height": 419
        },
        "outputId": "018f33a4-050b-4bff-b6ba-708d71403926"
      },
      "source": [
        "df_all_features_emb"
      ],
      "execution_count": 78,
      "outputs": [
        {
          "output_type": "execute_result",
          "data": {
            "text/html": [
              "<div>\n",
              "<style scoped>\n",
              "    .dataframe tbody tr th:only-of-type {\n",
              "        vertical-align: middle;\n",
              "    }\n",
              "\n",
              "    .dataframe tbody tr th {\n",
              "        vertical-align: top;\n",
              "    }\n",
              "\n",
              "    .dataframe thead th {\n",
              "        text-align: right;\n",
              "    }\n",
              "</style>\n",
              "<table border=\"1\" class=\"dataframe\">\n",
              "  <thead>\n",
              "    <tr style=\"text-align: right;\">\n",
              "      <th></th>\n",
              "      <th>len_of_query</th>\n",
              "      <th>word_in_title</th>\n",
              "      <th>word_in_description</th>\n",
              "    </tr>\n",
              "  </thead>\n",
              "  <tbody>\n",
              "    <tr>\n",
              "      <th>0</th>\n",
              "      <td>2</td>\n",
              "      <td>1</td>\n",
              "      <td>1</td>\n",
              "    </tr>\n",
              "    <tr>\n",
              "      <th>1</th>\n",
              "      <td>2</td>\n",
              "      <td>0</td>\n",
              "      <td>0</td>\n",
              "    </tr>\n",
              "    <tr>\n",
              "      <th>2</th>\n",
              "      <td>1</td>\n",
              "      <td>0</td>\n",
              "      <td>1</td>\n",
              "    </tr>\n",
              "    <tr>\n",
              "      <th>3</th>\n",
              "      <td>3</td>\n",
              "      <td>1</td>\n",
              "      <td>1</td>\n",
              "    </tr>\n",
              "    <tr>\n",
              "      <th>4</th>\n",
              "      <td>2</td>\n",
              "      <td>2</td>\n",
              "      <td>2</td>\n",
              "    </tr>\n",
              "    <tr>\n",
              "      <th>...</th>\n",
              "      <td>...</td>\n",
              "      <td>...</td>\n",
              "      <td>...</td>\n",
              "    </tr>\n",
              "    <tr>\n",
              "      <th>74062</th>\n",
              "      <td>3</td>\n",
              "      <td>1</td>\n",
              "      <td>1</td>\n",
              "    </tr>\n",
              "    <tr>\n",
              "      <th>74063</th>\n",
              "      <td>3</td>\n",
              "      <td>3</td>\n",
              "      <td>2</td>\n",
              "    </tr>\n",
              "    <tr>\n",
              "      <th>74064</th>\n",
              "      <td>6</td>\n",
              "      <td>1</td>\n",
              "      <td>1</td>\n",
              "    </tr>\n",
              "    <tr>\n",
              "      <th>74065</th>\n",
              "      <td>3</td>\n",
              "      <td>2</td>\n",
              "      <td>2</td>\n",
              "    </tr>\n",
              "    <tr>\n",
              "      <th>74066</th>\n",
              "      <td>5</td>\n",
              "      <td>3</td>\n",
              "      <td>1</td>\n",
              "    </tr>\n",
              "  </tbody>\n",
              "</table>\n",
              "<p>74067 rows × 3 columns</p>\n",
              "</div>"
            ],
            "text/plain": [
              "       len_of_query  word_in_title  word_in_description\n",
              "0                 2              1                    1\n",
              "1                 2              0                    0\n",
              "2                 1              0                    1\n",
              "3                 3              1                    1\n",
              "4                 2              2                    2\n",
              "...             ...            ...                  ...\n",
              "74062             3              1                    1\n",
              "74063             3              3                    2\n",
              "74064             6              1                    1\n",
              "74065             3              2                    2\n",
              "74066             5              3                    1\n",
              "\n",
              "[74067 rows x 3 columns]"
            ]
          },
          "metadata": {
            "tags": []
          },
          "execution_count": 78
        }
      ]
    },
    {
      "cell_type": "code",
      "metadata": {
        "id": "Nl-RdkMVGPD3",
        "colab_type": "code",
        "colab": {
          "base_uri": "https://localhost:8080/",
          "height": 419
        },
        "outputId": "e1c6650b-9d89-45ab-db72-d94b83ad369e"
      },
      "source": [
        "df_all = pd.concat([df_train_all,df_all_features_emb],axis=1)\n",
        "df_all\n"
      ],
      "execution_count": 80,
      "outputs": [
        {
          "output_type": "execute_result",
          "data": {
            "text/html": [
              "<div>\n",
              "<style scoped>\n",
              "    .dataframe tbody tr th:only-of-type {\n",
              "        vertical-align: middle;\n",
              "    }\n",
              "\n",
              "    .dataframe tbody tr th {\n",
              "        vertical-align: top;\n",
              "    }\n",
              "\n",
              "    .dataframe thead th {\n",
              "        text-align: right;\n",
              "    }\n",
              "</style>\n",
              "<table border=\"1\" class=\"dataframe\">\n",
              "  <thead>\n",
              "    <tr style=\"text-align: right;\">\n",
              "      <th></th>\n",
              "      <th>product_title</th>\n",
              "      <th>search_term</th>\n",
              "      <th>relevance</th>\n",
              "      <th>product_description</th>\n",
              "      <th>title_sim</th>\n",
              "      <th>description_sim</th>\n",
              "      <th>len_of_query</th>\n",
              "      <th>word_in_title</th>\n",
              "      <th>word_in_description</th>\n",
              "    </tr>\n",
              "  </thead>\n",
              "  <tbody>\n",
              "    <tr>\n",
              "      <th>0</th>\n",
              "      <td>0.037831</td>\n",
              "      <td>0.003281</td>\n",
              "      <td>3.00</td>\n",
              "      <td>0.059758</td>\n",
              "      <td>0.099485</td>\n",
              "      <td>0.011724</td>\n",
              "      <td>2</td>\n",
              "      <td>1</td>\n",
              "      <td>1</td>\n",
              "    </tr>\n",
              "    <tr>\n",
              "      <th>1</th>\n",
              "      <td>0.037831</td>\n",
              "      <td>0.004888</td>\n",
              "      <td>2.50</td>\n",
              "      <td>0.059758</td>\n",
              "      <td>0.056404</td>\n",
              "      <td>0.009350</td>\n",
              "      <td>2</td>\n",
              "      <td>0</td>\n",
              "      <td>0</td>\n",
              "    </tr>\n",
              "    <tr>\n",
              "      <th>2</th>\n",
              "      <td>0.014359</td>\n",
              "      <td>0.005109</td>\n",
              "      <td>3.00</td>\n",
              "      <td>0.130521</td>\n",
              "      <td>0.043307</td>\n",
              "      <td>0.011489</td>\n",
              "      <td>1</td>\n",
              "      <td>0</td>\n",
              "      <td>1</td>\n",
              "    </tr>\n",
              "    <tr>\n",
              "      <th>3</th>\n",
              "      <td>0.064938</td>\n",
              "      <td>0.084180</td>\n",
              "      <td>2.33</td>\n",
              "      <td>0.082139</td>\n",
              "      <td>0.036266</td>\n",
              "      <td>0.009092</td>\n",
              "      <td>3</td>\n",
              "      <td>1</td>\n",
              "      <td>1</td>\n",
              "    </tr>\n",
              "    <tr>\n",
              "      <th>4</th>\n",
              "      <td>0.064938</td>\n",
              "      <td>0.148409</td>\n",
              "      <td>2.67</td>\n",
              "      <td>0.082139</td>\n",
              "      <td>0.077293</td>\n",
              "      <td>0.016911</td>\n",
              "      <td>2</td>\n",
              "      <td>2</td>\n",
              "      <td>2</td>\n",
              "    </tr>\n",
              "    <tr>\n",
              "      <th>...</th>\n",
              "      <td>...</td>\n",
              "      <td>...</td>\n",
              "      <td>...</td>\n",
              "      <td>...</td>\n",
              "      <td>...</td>\n",
              "      <td>...</td>\n",
              "      <td>...</td>\n",
              "      <td>...</td>\n",
              "      <td>...</td>\n",
              "    </tr>\n",
              "    <tr>\n",
              "      <th>74062</th>\n",
              "      <td>0.016119</td>\n",
              "      <td>0.025664</td>\n",
              "      <td>1.00</td>\n",
              "      <td>0.051810</td>\n",
              "      <td>0.040757</td>\n",
              "      <td>0.013468</td>\n",
              "      <td>3</td>\n",
              "      <td>1</td>\n",
              "      <td>1</td>\n",
              "    </tr>\n",
              "    <tr>\n",
              "      <th>74063</th>\n",
              "      <td>0.079398</td>\n",
              "      <td>0.037471</td>\n",
              "      <td>3.00</td>\n",
              "      <td>0.104744</td>\n",
              "      <td>0.090597</td>\n",
              "      <td>0.014838</td>\n",
              "      <td>3</td>\n",
              "      <td>3</td>\n",
              "      <td>2</td>\n",
              "    </tr>\n",
              "    <tr>\n",
              "      <th>74064</th>\n",
              "      <td>0.012881</td>\n",
              "      <td>0.011892</td>\n",
              "      <td>2.33</td>\n",
              "      <td>0.080744</td>\n",
              "      <td>0.034847</td>\n",
              "      <td>0.007674</td>\n",
              "      <td>6</td>\n",
              "      <td>1</td>\n",
              "      <td>1</td>\n",
              "    </tr>\n",
              "    <tr>\n",
              "      <th>74065</th>\n",
              "      <td>0.051558</td>\n",
              "      <td>0.004945</td>\n",
              "      <td>3.00</td>\n",
              "      <td>0.056199</td>\n",
              "      <td>0.060843</td>\n",
              "      <td>0.025619</td>\n",
              "      <td>3</td>\n",
              "      <td>2</td>\n",
              "      <td>2</td>\n",
              "    </tr>\n",
              "    <tr>\n",
              "      <th>74066</th>\n",
              "      <td>0.012765</td>\n",
              "      <td>0.002068</td>\n",
              "      <td>2.33</td>\n",
              "      <td>0.042071</td>\n",
              "      <td>0.022391</td>\n",
              "      <td>0.010826</td>\n",
              "      <td>5</td>\n",
              "      <td>3</td>\n",
              "      <td>1</td>\n",
              "    </tr>\n",
              "  </tbody>\n",
              "</table>\n",
              "<p>74067 rows × 9 columns</p>\n",
              "</div>"
            ],
            "text/plain": [
              "       product_title  search_term  ...  word_in_title  word_in_description\n",
              "0           0.037831     0.003281  ...              1                    1\n",
              "1           0.037831     0.004888  ...              0                    0\n",
              "2           0.014359     0.005109  ...              0                    1\n",
              "3           0.064938     0.084180  ...              1                    1\n",
              "4           0.064938     0.148409  ...              2                    2\n",
              "...              ...          ...  ...            ...                  ...\n",
              "74062       0.016119     0.025664  ...              1                    1\n",
              "74063       0.079398     0.037471  ...              3                    2\n",
              "74064       0.012881     0.011892  ...              1                    1\n",
              "74065       0.051558     0.004945  ...              2                    2\n",
              "74066       0.012765     0.002068  ...              3                    1\n",
              "\n",
              "[74067 rows x 9 columns]"
            ]
          },
          "metadata": {
            "tags": []
          },
          "execution_count": 80
        }
      ]
    },
    {
      "cell_type": "code",
      "metadata": {
        "id": "QGTTa6ASHCH_",
        "colab_type": "code",
        "colab": {
          "base_uri": "https://localhost:8080/",
          "height": 34
        },
        "outputId": "4bb124b9-3180-42e6-886d-bcef2605a5c7"
      },
      "source": [
        "X = df_all.drop(['relevance'],axis=1)\n",
        "y = df_all['relevance'].values\n",
        "\n",
        "X_train, X_test, y_train, y_test = train_test_split(X, y, test_size=0.33, random_state=42)\n",
        "\n",
        "rf = RandomForestRegressor(n_estimators=15, max_depth=6, random_state=0)\n",
        "clf = BaggingRegressor(rf, n_estimators=45, max_samples=0.1, random_state=25)\n",
        "\n",
        "clf.fit(X_train, y_train)\n",
        "y_pred_clf = clf.predict(X_test)\n",
        "\n",
        "#out of sample result\n",
        "print(math.sqrt(mean_squared_error(y_test, y_pred_clf)))"
      ],
      "execution_count": 81,
      "outputs": [
        {
          "output_type": "stream",
          "text": [
            "0.4861458327049534\n"
          ],
          "name": "stdout"
        }
      ]
    },
    {
      "cell_type": "code",
      "metadata": {
        "id": "QgLye1LKH0pG",
        "colab_type": "code",
        "colab": {
          "base_uri": "https://localhost:8080/",
          "height": 34
        },
        "outputId": "9e59a113-3c09-4fd4-f744-32762d53fa1b"
      },
      "source": [
        "#in-sample result\n",
        "CV_score_clf = cross_val_score(clf, X_train, y_train, scoring='neg_mean_squared_error', cv=10)\n",
        "math.sqrt(-CV_score_clf.mean())"
      ],
      "execution_count": 82,
      "outputs": [
        {
          "output_type": "execute_result",
          "data": {
            "text/plain": [
              "0.4875934746907219"
            ]
          },
          "metadata": {
            "tags": []
          },
          "execution_count": 82
        }
      ]
    },
    {
      "cell_type": "code",
      "metadata": {
        "id": "bjxmsOg9Nzoc",
        "colab_type": "code",
        "colab": {
          "base_uri": "https://localhost:8080/",
          "height": 34
        },
        "outputId": "2ed1902b-53df-421e-88f3-ffbed9e4bd81"
      },
      "source": [
        "#Random forest\n",
        "rf.fit(X_train, y_train)\n",
        "y_pred_rf = rf.predict(X_test)\n",
        "print(math.sqrt(mean_squared_error(y_test, y_pred_rf)))"
      ],
      "execution_count": 87,
      "outputs": [
        {
          "output_type": "stream",
          "text": [
            "0.48660567479361233\n"
          ],
          "name": "stdout"
        }
      ]
    },
    {
      "cell_type": "code",
      "metadata": {
        "id": "187hip0DNzvP",
        "colab_type": "code",
        "colab": {
          "base_uri": "https://localhost:8080/",
          "height": 34
        },
        "outputId": "a9f771b9-d6eb-448c-9675-6800373edd82"
      },
      "source": [
        "CV_score_rf = cross_val_score(clf, X_train, y_train, scoring='neg_mean_squared_error', cv=10)\n",
        "math.sqrt(-CV_score_rf.mean()) #root mean squared error"
      ],
      "execution_count": 88,
      "outputs": [
        {
          "output_type": "execute_result",
          "data": {
            "text/plain": [
              "0.4875934746907219"
            ]
          },
          "metadata": {
            "tags": []
          },
          "execution_count": 88
        }
      ]
    },
    {
      "cell_type": "code",
      "metadata": {
        "id": "ZKYUxxZJIBCc",
        "colab_type": "code",
        "colab": {
          "base_uri": "https://localhost:8080/",
          "height": 34
        },
        "outputId": "51bce071-8840-43b1-ac34-263e244ef82c"
      },
      "source": [
        "#xgboost\n",
        "xg_reg = xgb.XGBRegressor(objective ='reg:squarederror', learning_rate = 0.1,max_depth = 5)\n",
        "xg_reg.fit(X_train,y_train)\n",
        "#preds = xg_reg.predict(X_test_stand)\n",
        "#preds\n",
        "CV_score_XGB = cross_val_score(xg_reg, X_train, y_train, scoring='neg_mean_squared_error', cv=10)\n",
        "math.sqrt(-CV_score_XGB.mean())"
      ],
      "execution_count": 83,
      "outputs": [
        {
          "output_type": "execute_result",
          "data": {
            "text/plain": [
              "0.4836815115834332"
            ]
          },
          "metadata": {
            "tags": []
          },
          "execution_count": 83
        }
      ]
    },
    {
      "cell_type": "code",
      "metadata": {
        "id": "jhwLzeFXIKrx",
        "colab_type": "code",
        "colab": {
          "base_uri": "https://localhost:8080/",
          "height": 34
        },
        "outputId": "3493aad9-dfee-46f5-852e-5ed7607f5be1"
      },
      "source": [
        "y_pred_xg = xg_reg.predict(X_test)\n",
        "print(math.sqrt(mean_squared_error(y_test, y_pred_xg)))"
      ],
      "execution_count": 84,
      "outputs": [
        {
          "output_type": "stream",
          "text": [
            "0.4813085377476867\n"
          ],
          "name": "stdout"
        }
      ]
    },
    {
      "cell_type": "code",
      "metadata": {
        "id": "DTgc7P1ZINbU",
        "colab_type": "code",
        "colab": {
          "base_uri": "https://localhost:8080/",
          "height": 295
        },
        "outputId": "86e971f7-2169-4c9e-c3a5-641360911ca0"
      },
      "source": [
        "from xgboost import plot_importance\n",
        "from matplotlib import pyplot as plt\n",
        "plot_importance(xg_reg)\n",
        "plt.show() "
      ],
      "execution_count": 86,
      "outputs": [
        {
          "output_type": "display_data",
          "data": {
            "image/png": "[encoded data removed]",
            "text/plain": [
              "<Figure size 432x288 with 1 Axes>"
            ]
          },
          "metadata": {
            "tags": [],
            "needs_background": "light"
          }
        }
      ]
    },
    {
      "cell_type": "code",
      "metadata": {
        "id": "sqwFxuQ5Pd7u",
        "colab_type": "code",
        "colab": {
          "base_uri": "https://localhost:8080/",
          "height": 34
        },
        "outputId": "6823c25f-52bb-48ac-ebca-b98bccb4545f"
      },
      "source": [
        "import lightgbm\n",
        "mod_lgbm = lightgbm.LGBMRegressor(max_depth=3,learning_rate=0.1)\n",
        "mod_lgbm.fit(X_train,y_train)\n",
        "LGBM_preds=mod_lgbm.predict(X_test)\n",
        "\n",
        "cv_scores_lgbm = cross_val_score(mod_lgbm, X_train, y_train, scoring='neg_mean_squared_error', cv=10)\n",
        "\n",
        "math.sqrt(-cv_scores_lgbm.mean())"
      ],
      "execution_count": 89,
      "outputs": [
        {
          "output_type": "execute_result",
          "data": {
            "text/plain": [
              "0.4855965279163162"
            ]
          },
          "metadata": {
            "tags": []
          },
          "execution_count": 89
        }
      ]
    }
  ]
}